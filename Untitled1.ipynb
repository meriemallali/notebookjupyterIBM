{
 "cells": [
  {
   "cell_type": "markdown",
   "id": "41cbde35",
   "metadata": {},
   "source": [
    "# Data Science Tools and Ecosystem"
   ]
  },
  {
   "cell_type": "markdown",
   "id": "95e88af0",
   "metadata": {},
   "source": [
    "<p>In this notebook, Data Science Tools and Ecosystem are summarized.</p>\n"
   ]
  },
  {
   "cell_type": "markdown",
   "id": "5012ff26",
   "metadata": {},
   "source": [
    "__Objectives:__\n",
    "- Popular languages used by Data Scientists.\n",
    "- Most commonly libraries used by Data Scientists.\n",
    "- evaluating arithmetic expressions in Python\n",
    "    \n"
   ]
  },
  {
   "cell_type": "markdown",
   "id": "60dcb376",
   "metadata": {},
   "source": [
    "<p>Some of the popular languages that Data Scientists use are:</p>\n",
    "<ol>\n",
    "    <li>Python</li>    \n",
    "    <li>JS</li>\n",
    "    <li> GO </li>\n",
    "    \n",
    "</ol>\n"
   ]
  },
  {
   "cell_type": "markdown",
   "id": "b5222179",
   "metadata": {},
   "source": [
    "<p>Some of the commonly used libraries used by Data Scientists include:</p>\n",
    "<ol>\n",
    "    <li>Pandas</li>\n",
    "    <li>NumPy</li>\n",
    "    <li>Matplotlib  </li>\n",
    "    \n",
    "</ol>"
   ]
  },
  {
   "cell_type": "markdown",
   "id": "53f5d77d",
   "metadata": {},
   "source": [
    "| Data Science Tools | \n",
    "| --- |\n",
    "| RStudio |\n",
    "| Apache Spark |\n",
    "| TensorFlow |\n"
   ]
  },
  {
   "cell_type": "markdown",
   "id": "3dc304ae",
   "metadata": {},
   "source": [
    "### Below are a few examples of evaluating arithmetic expressions in Python\n"
   ]
  },
  {
   "cell_type": "code",
   "execution_count": 8,
   "id": "e8ea90d9",
   "metadata": {},
   "outputs": [
    {
     "name": "stdout",
     "output_type": "stream",
     "text": [
      "17\n"
     ]
    }
   ],
   "source": [
    "# This a simple arithmetic expression to mutiply then add integers\n",
    "x = (3*4)+5 \n",
    "print(x)"
   ]
  },
  {
   "cell_type": "code",
   "execution_count": 9,
   "id": "87a39093",
   "metadata": {},
   "outputs": [
    {
     "name": "stdout",
     "output_type": "stream",
     "text": [
      "3 hours 20 minutes\n"
     ]
    }
   ],
   "source": [
    "# This will convert 200 minutes to hours by diving by 60\n",
    "def format_time(minutes):\n",
    "    hours_total = minutes // 60\n",
    "    # Get additional minutes with modulus\n",
    "    minutes_total = minutes % 60\n",
    "    # Create time as a string\n",
    "    time_string = \"{} hours {} minutes\".format(hours_total, minutes_total)\n",
    "    return time_string\n",
    "\n",
    "print(format_time(200))"
   ]
  },
  {
   "cell_type": "markdown",
   "id": "b523cd8f",
   "metadata": {},
   "source": [
    "## Author : \n",
    "Meriem Al."
   ]
  },
  {
   "cell_type": "code",
   "execution_count": null,
   "id": "7afe6000",
   "metadata": {},
   "outputs": [],
   "source": []
  }
 ],
 "metadata": {
  "kernelspec": {
   "display_name": "Python 3 (ipykernel)",
   "language": "python",
   "name": "python3"
  },
  "language_info": {
   "codemirror_mode": {
    "name": "ipython",
    "version": 3
   },
   "file_extension": ".py",
   "mimetype": "text/x-python",
   "name": "python",
   "nbconvert_exporter": "python",
   "pygments_lexer": "ipython3",
   "version": "3.9.12"
  }
 },
 "nbformat": 4,
 "nbformat_minor": 5
}
